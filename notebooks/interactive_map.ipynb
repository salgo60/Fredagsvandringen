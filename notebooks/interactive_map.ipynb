{
 "cells": [
  {
   "cell_type": "markdown",
   "id": "2020d323",
   "metadata": {},
   "source": [
    "# 🌍 Hello World Map\n",
    "An example Folium map with a single marker."
   ]
  },
  {
   "cell_type": "code",
   "execution_count": null,
   "id": "942a758c",
   "metadata": {},
   "outputs": [],
   "source": [
    "import folium\n",
    "\n",
    "# Create a basic map centered on Stockholm\n",
    "m = folium.Map(location=[59.3293, 18.0686], zoom_start=10)\n",
    "\n",
    "# Add a marker\n",
    "folium.Marker([59.3293, 18.0686], tooltip='Stockholm', popup='Hello from Stockholm!').add_to(m)\n",
    "\n",
    "# Display map\n",
    "m"
   ]
  }
 ],
 "metadata": {
  "kernelspec": {
   "display_name": "Python 3",
   "name": "python3"
  }
 },
 "nbformat": 4,
 "nbformat_minor": 5
}